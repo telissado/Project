{
 "cells": [
  {
   "cell_type": "code",
   "execution_count": 12,
   "metadata": {},
   "outputs": [
    {
     "name": "stdout",
     "output_type": "stream",
     "text": [
      "Player's name: Telissa\n",
      "Hi! Welcome Telissa to the guessing game.\n"
     ]
    }
   ],
   "source": [
    "import random\n",
    "\n",
    "# generate random number\n",
    "comp_no = random.randint(1, 10)\n",
    "\n",
    "# guess_limit = 5\n",
    "guess_count = 1\n",
    "guess_limit = 5\n",
    "\n",
    "# input player's name\n",
    "name = input(\"Player's name: \")\n",
    "print('Hi! Welcome ' + name + ' to the guessing game.')"
   ]
  },
  {
   "cell_type": "code",
   "execution_count": 13,
   "metadata": {},
   "outputs": [
    {
     "name": "stdout",
     "output_type": "stream",
     "text": [
      "The number you guess is: 5\n",
      "Your guessing number is too low\n",
      "The number you guess is: 6\n",
      "You got the correct number after 2 tries\n"
     ]
    }
   ],
   "source": [
    "# develop while loop\n",
    "# guess = input the number you guess\n",
    "# stop the game when you find out the correct number after xx times (xx <= 5) OR the guessing number in your 5th attempt is still wrong\n",
    "while guess_count <= guess_limit:\n",
    "    guess = int(input(\"The number you guess is: \"))\n",
    "    if guess < comp_no:\n",
    "        print('Your guessing number is too low')\n",
    "        guess_count = guess_count + 1\n",
    "    elif guess > comp_no:\n",
    "        print('Your guessing number is too high')\n",
    "        guess_count = guess_count + 1\n",
    "    else:\n",
    "        print('You got the correct number after ' + str(guess_count) + ' tries')\n",
    "        break # stop while loop if we guess the correct number\n",
    "if guess_count > guess_limit:\n",
    "    print('Gameover!!! The correct number is ' + str(comp_no))"
   ]
  },
  {
   "cell_type": "code",
   "execution_count": null,
   "metadata": {},
   "outputs": [],
   "source": []
  }
 ],
 "metadata": {
  "kernelspec": {
   "display_name": "Python 3 (ipykernel)",
   "language": "python",
   "name": "python3"
  },
  "language_info": {
   "codemirror_mode": {
    "name": "ipython",
    "version": 3
   },
   "file_extension": ".py",
   "mimetype": "text/x-python",
   "name": "python",
   "nbconvert_exporter": "python",
   "pygments_lexer": "ipython3",
   "version": "3.9.12"
  }
 },
 "nbformat": 4,
 "nbformat_minor": 2
}
