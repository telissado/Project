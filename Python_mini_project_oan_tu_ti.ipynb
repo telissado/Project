{
 "cells": [
  {
   "cell_type": "code",
   "execution_count": null,
   "metadata": {},
   "outputs": [
    {
     "name": "stdout",
     "output_type": "stream",
     "text": [
      "Chọn (búa, kéo, lá): búa\n",
      "Bạn chọn: búa\n",
      "Máy tính chọn: lá\n",
      "Thua\n",
      "----------------------\n",
      "Chọn (búa, kéo, lá): kẹo\n",
      "Bạn chọn: kẹo\n",
      "Máy tính chọn: lá\n",
      "Nhập lại đúng chính tả\n",
      "----------------------\n"
     ]
    }
   ],
   "source": [
    "import random\n",
    "\n",
    "# máy chọn random\n",
    "computer = random.randint(1,3)\n",
    "if computer == 1:\n",
    "    computer = 'búa'\n",
    "if computer == 2:\n",
    "    computer = 'kéo'\n",
    "if computer == 3: \n",
    "    computer = 'lá'\n",
    "\n",
    "# tạo vòng lặp while để chạy chương trình    \n",
    "play = True\n",
    "while play == True:\n",
    "    player = input('Chọn (búa, kéo, lá): ')\n",
    "    print('Bạn chọn: ' + player)\n",
    "    print('Máy tính chọn: '+ computer)\n",
    "    if player == computer: \n",
    "        print('Hòa')\n",
    "    elif player == 'búa':\n",
    "        if computer == 'kéo':\n",
    "            print('Thắng')\n",
    "        else: print('Thua')\n",
    "    elif player == 'kéo':\n",
    "        if computer == 'lá':\n",
    "            print('Thắng')\n",
    "        else: print('Thua')\n",
    "    elif player == 'lá':\n",
    "        if computer == 'búa':\n",
    "            print('Thắng')\n",
    "        else: print('Thua')\n",
    "    else: \n",
    "        print('Nhập lại đúng chính tả')\n",
    "    print('----------------------')\n",
    "    "
   ]
  },
  {
   "cell_type": "code",
   "execution_count": null,
   "metadata": {},
   "outputs": [],
   "source": []
  }
 ],
 "metadata": {
  "kernelspec": {
   "display_name": "Python 3 (ipykernel)",
   "language": "python",
   "name": "python3"
  },
  "language_info": {
   "codemirror_mode": {
    "name": "ipython",
    "version": 3
   },
   "file_extension": ".py",
   "mimetype": "text/x-python",
   "name": "python",
   "nbconvert_exporter": "python",
   "pygments_lexer": "ipython3",
   "version": "3.9.12"
  }
 },
 "nbformat": 4,
 "nbformat_minor": 2
}
