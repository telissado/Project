{
 "cells": [
  {
   "cell_type": "markdown",
   "metadata": {},
   "source": [
    "#### Trong project này chúng ta sẽ mô phỏng lại trò chơi dân gian oẳn tù tì.\n",
    "#### Cụ thể, chúng ta sẽ oẳn tù tì với máy. Máy sẽ chọn random búa, kéo, hoặc lá trong mỗi lần oẳn tù tì.\n",
    "#### Chúng ta sẽ chọn ra búa, kéo hoặc lá sau đó in ra kết quả. Trường hợp người chơi nhập sai, yêu cầu người chơi nhập lại theo đúng chính tả theo 3 sự lựa chọn búa, kéo, hoặc lá.\n",
    "#### Lưu ý, sau mỗi lượt chơi, máy sẽ random chọn lại búa kéo hoặc lá.\n",
    "\n",
    "#### Các kiến thức cover trong mini project này: Array, random, while loop, if - elif - else."
   ]
  },
  {
   "cell_type": "code",
   "execution_count": null,
   "metadata": {},
   "outputs": [
    {
     "name": "stdout",
     "output_type": "stream",
     "text": [
      "Chon (bua, keo, la): keo\n",
      "Ban chon: keo\n",
      "May tinh chon: keo\n",
      "Hoa\n",
      "----------------------\n",
      "Chon (bua, keo, la): ka\n",
      "Ban chon: ka\n",
      "May tinh chon: keo\n",
      "Nhap lai dung chinh ta\n",
      "----------------------\n"
     ]
    }
   ],
   "source": [
    "import random\n",
    "\n",
    "# máy chọn random\n",
    "computer = random.randint(1,3)\n",
    "if computer == 1:\n",
    "    computer = 'bua'\n",
    "if computer == 2:\n",
    "    computer = 'keo'\n",
    "if computer == 3: \n",
    "    computer = 'la'\n",
    "\n",
    "# tạo vòng lặp while để chạy chương trình    \n",
    "play = True\n",
    "while play == True:\n",
    "    player = input('Chon (bua, keo, la): ')\n",
    "    print('Ban chon: ' + player)\n",
    "    print('May tinh chon: '+ computer)\n",
    "    if player == computer: \n",
    "        print('Hoa')\n",
    "    elif player == 'bua':\n",
    "        if computer == 'keo':\n",
    "            print('Thang')\n",
    "        else: print('Thua')\n",
    "    elif player == 'keo':\n",
    "        if computer == 'la':\n",
    "            print('Thang')\n",
    "        else: print('Thua')\n",
    "    elif player == 'la':\n",
    "        if computer == 'bua':\n",
    "            print('Thang')\n",
    "        else: print('Thua')\n",
    "    else: \n",
    "        print('Nhap lai dung chinh ta')\n",
    "    print('----------------------')\n",
    "    "
   ]
  },
  {
   "cell_type": "code",
   "execution_count": null,
   "metadata": {},
   "outputs": [],
   "source": []
  }
 ],
 "metadata": {
  "kernelspec": {
   "display_name": "Python 3 (ipykernel)",
   "language": "python",
   "name": "python3"
  },
  "language_info": {
   "codemirror_mode": {
    "name": "ipython",
    "version": 3
   },
   "file_extension": ".py",
   "mimetype": "text/x-python",
   "name": "python",
   "nbconvert_exporter": "python",
   "pygments_lexer": "ipython3",
   "version": "3.9.12"
  }
 },
 "nbformat": 4,
 "nbformat_minor": 2
}
